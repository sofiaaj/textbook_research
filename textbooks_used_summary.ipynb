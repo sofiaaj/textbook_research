{
 "cells": [
  {
   "cell_type": "code",
   "execution_count": 1,
   "id": "commercial-suspect",
   "metadata": {},
   "outputs": [],
   "source": [
    "import os\n",
    "import pandas as pd\n",
    "from pandas import DataFrame"
   ]
  },
  {
   "cell_type": "code",
   "execution_count": 7,
   "id": "legitimate-passion",
   "metadata": {
    "scrolled": true
   },
   "outputs": [],
   "source": [
    "books = []\n",
    "for dir in os.listdir(\"./textbooks\"):\n",
    "    if dir[0].isnumeric():\n",
    "        files = []\n",
    "        new_dir = \"./textbooks/\" + dir\n",
    "        for file in os.listdir(new_dir):\n",
    "            if file[0].isnumeric():\n",
    "                if len(file.split(\"_\",2)) == 3:\n",
    "                    yea, auth, titl = file.split(\"_\",2)\n",
    "                else:\n",
    "                    print(file)\n",
    "                    yea, auth, titl = file.split(\" \",2)\n",
    "                    src = new_dir + \"/\" + file\n",
    "                    dst = new_dir + \"/\" + yea + \"_\" + auth + \"_\" + titl\n",
    "                    os.rename(src,dst)\n",
    "                titl = titl.split(\".\")[0]\n",
    "                books.append([yea,auth,titl,file])"
   ]
  },
  {
   "cell_type": "code",
   "execution_count": 8,
   "id": "romantic-landing",
   "metadata": {},
   "outputs": [],
   "source": [
    "textbooks = DataFrame(books,columns=[\"Year\",\"Author\",\"Title\",\"Filename\"])"
   ]
  },
  {
   "cell_type": "code",
   "execution_count": 45,
   "id": "manual-footwear",
   "metadata": {},
   "outputs": [
    {
     "name": "stdout",
     "output_type": "stream",
     "text": [
      "Collecting openpyxl\n",
      "  Downloading openpyxl-3.0.7-py2.py3-none-any.whl (243 kB)\n",
      "\u001b[K     |████████████████████████████████| 243 kB 5.3 MB/s eta 0:00:01\n",
      "\u001b[?25hCollecting et-xmlfile\n",
      "  Downloading et_xmlfile-1.1.0-py3-none-any.whl (4.7 kB)\n",
      "Installing collected packages: et-xmlfile, openpyxl\n",
      "Successfully installed et-xmlfile-1.1.0 openpyxl-3.0.7\n"
     ]
    }
   ],
   "source": [
    "import sys\n",
    "!{sys.executable} -m pip install openpyxl"
   ]
  },
  {
   "cell_type": "code",
   "execution_count": 46,
   "id": "pressing-copper",
   "metadata": {},
   "outputs": [],
   "source": [
    "atlas_textbooks = pd.read_excel(\"./data_and_methods_tables/atlas_textbooks.xlsx\")"
   ]
  },
  {
   "cell_type": "code",
   "execution_count": 52,
   "id": "lesser-foster",
   "metadata": {},
   "outputs": [],
   "source": [
    "texts = atlas_textbooks['Name']"
   ]
  },
  {
   "cell_type": "code",
   "execution_count": 57,
   "id": "present-teens",
   "metadata": {},
   "outputs": [],
   "source": [
    "atlas_books = []\n",
    "for file in texts:\n",
    "    if len(file.split(\"_\",2)) == 3:\n",
    "        yea, auth, titl = file.split(\"_\",2)\n",
    "    else:\n",
    "        yea, auth, titl = file.split(\" \",2)\n",
    "    titl = titl.split(\".\")[0]\n",
    "    atlas_books.append([yea,auth,titl,file])"
   ]
  },
  {
   "cell_type": "code",
   "execution_count": 62,
   "id": "essential-minority",
   "metadata": {},
   "outputs": [],
   "source": [
    "atlas_textbooks = DataFrame(atlas_books,columns=[\"Year\",\"Author\",\"Title\",\"Filename\"])"
   ]
  },
  {
   "cell_type": "code",
   "execution_count": 9,
   "id": "horizontal-convenience",
   "metadata": {},
   "outputs": [
    {
     "ename": "NameError",
     "evalue": "name 'atlas_textbooks' is not defined",
     "output_type": "error",
     "traceback": [
      "\u001b[0;31m---------------------------------------------------------------------------\u001b[0m",
      "\u001b[0;31mNameError\u001b[0m                                 Traceback (most recent call last)",
      "\u001b[0;32m<ipython-input-9-9ea1084e50e9>\u001b[0m in \u001b[0;36m<module>\u001b[0;34m\u001b[0m\n\u001b[1;32m      1\u001b[0m \u001b[0mtextbooks\u001b[0m\u001b[0;34m.\u001b[0m\u001b[0mto_csv\u001b[0m\u001b[0;34m(\u001b[0m\u001b[0;34m'data_and_methods_tables/textbooks_final.csv'\u001b[0m\u001b[0;34m,\u001b[0m\u001b[0mindex\u001b[0m\u001b[0;34m=\u001b[0m\u001b[0;32mFalse\u001b[0m\u001b[0;34m)\u001b[0m\u001b[0;34m\u001b[0m\u001b[0;34m\u001b[0m\u001b[0m\n\u001b[0;32m----> 2\u001b[0;31m \u001b[0matlas_textbooks\u001b[0m\u001b[0;34m.\u001b[0m\u001b[0mto_csv\u001b[0m\u001b[0;34m(\u001b[0m\u001b[0;34m'data_and_methods_tables/atlas_textbooks.csv'\u001b[0m\u001b[0;34m,\u001b[0m\u001b[0mindex\u001b[0m\u001b[0;34m=\u001b[0m\u001b[0;32mFalse\u001b[0m\u001b[0;34m)\u001b[0m\u001b[0;34m\u001b[0m\u001b[0;34m\u001b[0m\u001b[0m\n\u001b[0m",
      "\u001b[0;31mNameError\u001b[0m: name 'atlas_textbooks' is not defined"
     ]
    }
   ],
   "source": [
    "textbooks.to_csv('data_and_methods_tables/textbooks_final.csv',index=False)\n",
    "atlas_textbooks.to_csv('data_and_methods_tables/atlas_textbooks.csv',index=False)"
   ]
  }
 ],
 "metadata": {
  "kernelspec": {
   "display_name": "Python 3",
   "language": "python",
   "name": "python3"
  },
  "language_info": {
   "codemirror_mode": {
    "name": "ipython",
    "version": 3
   },
   "file_extension": ".py",
   "mimetype": "text/x-python",
   "name": "python",
   "nbconvert_exporter": "python",
   "pygments_lexer": "ipython3",
   "version": "3.8.5"
  }
 },
 "nbformat": 4,
 "nbformat_minor": 5
}
